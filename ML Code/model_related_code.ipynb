{
  "nbformat": 4,
  "nbformat_minor": 0,
  "metadata": {
    "colab": {
      "provenance": [],
      "collapsed_sections": [
        "m0QntR6DtSLO",
        "B1mNKGTQurj2",
        "i3uksZ75wWTA",
        "pPGM1d_otT7W"
      ]
    },
    "kernelspec": {
      "name": "python3",
      "display_name": "Python 3"
    },
    "language_info": {
      "name": "python"
    }
  },
  "cells": [
    {
      "cell_type": "code",
      "source": [
        "import numpy as np\n",
        "import os\n",
        "import csv\n",
        "import random\n",
        "\n",
        "import tensorflow as tf\n",
        "from tensorflow.keras.models import Model\n",
        "from tensorflow.keras.layers import LSTM, GRU, Dense, Input, Dropout\n",
        "from tensorflow.keras.layers import Conv2D, MaxPooling2D, Flatten\n",
        "\n"
      ],
      "metadata": {
        "id": "972HGDOmtM68"
      },
      "execution_count": null,
      "outputs": []
    },
    {
      "cell_type": "code",
      "source": [
        "#constant\n",
        "num_lable_kinds = 5\n",
        "both_cols = 6\n",
        "high_rows = 60\n",
        "short_rows = 50"
      ],
      "metadata": {
        "id": "F0IDxS_ythfM"
      },
      "execution_count": null,
      "outputs": []
    },
    {
      "cell_type": "code",
      "source": [
        "Units=64\n",
        "Output_Dim = 5\n",
        "Num_Layers = 1\n",
        "Dropout_Rate = 0.1\n",
        "Num_Filters = 32\n",
        "Kernel_Size = (5, 5)"
      ],
      "metadata": {
        "id": "QnWJoidDu-GS"
      },
      "execution_count": null,
      "outputs": []
    },
    {
      "cell_type": "code",
      "source": [
        "#learning_rate\n",
        "Lstm_lr = 0.01\n",
        "GRU_lr = 0.01\n",
        "CNN_lr = 0.0001\n",
        "\n",
        "#Epoch\n",
        "Lstm_Ep = 30\n",
        "GRU_Ep = 30\n",
        "CNN_Ep = 50\n",
        "\n",
        "#Batch_Size\n",
        "Lstm_Bs = 16\n",
        "GRU_Bs = 16\n",
        "CNN_Bs = 20"
      ],
      "metadata": {
        "id": "QI_SZWoXvzHY"
      },
      "execution_count": null,
      "outputs": []
    },
    {
      "cell_type": "markdown",
      "source": [
        "### output, loss, accuracy,preprocess"
      ],
      "metadata": {
        "id": "EzpQ9PBitwPR"
      }
    },
    {
      "cell_type": "code",
      "source": [
        "# Define custom output function\n",
        "def custom_output(x):\n",
        "  # Implement your custom output logic here\n",
        "  return x\n",
        "\n",
        "def custom_loss(y_true, y_pred):\n",
        "  y_true = tf.cast(y_true, dtype=tf.float32)  # Cast y_true to float32\n",
        "  loss = tf.reduce_mean(tf.square(y_true - y_pred))\n",
        "  return loss\n",
        "\n",
        "# Define custom accuracy function\n",
        "threshold = 0.5\n",
        "def custom_accuracy(y_true, y_pred):\n",
        "  abs_diff = tf.abs(y_true - y_pred)\n",
        "  condition = tf.less_equal(abs_diff, threshold)\n",
        "  acc = tf.cast(condition, tf.float32)\n",
        "  return acc\n",
        "\n",
        "# 為了適應CNN的輸入要求，在數據集加載過程中添加一個維度\n",
        "def preprocess(data):\n",
        "  # 增加一個維度以模擬“通道”\n",
        "  return tf.expand_dims(data, -1)"
      ],
      "metadata": {
        "id": "J7o__6j5twAC"
      },
      "execution_count": null,
      "outputs": []
    },
    {
      "cell_type": "markdown",
      "source": [
        "### LSTM"
      ],
      "metadata": {
        "id": "m0QntR6DtSLO"
      }
    },
    {
      "cell_type": "code",
      "execution_count": null,
      "metadata": {
        "id": "74gTx_BDsLuQ"
      },
      "outputs": [],
      "source": [
        "class LSTM_mymodel(Model):\n",
        "  def __init__(self, units, output_dim, num_layers, dropout_rate):\n",
        "    super(LSTM_mymodel, self).__init__()\n",
        "    self.lstm_layers = [LSTM(units, return_sequences=(i < num_layers - 1)) for i in range(num_layers)]\n",
        "    self.dropout = Dropout(rate=dropout_rate)\n",
        "    self.dense = Dense(output_dim)\n",
        "\n",
        "  def call(self, inputs):\n",
        "    x = inputs\n",
        "    for lstm_layer in self.lstm_layers:\n",
        "      x = lstm_layer(x)\n",
        "      x = self.dropout(x)  # Apply dropout after each LSTM layer\n",
        "    output = self.dense(x)\n",
        "    output = custom_output(output)\n",
        "    return output"
      ]
    },
    {
      "cell_type": "markdown",
      "source": [
        "### GRU"
      ],
      "metadata": {
        "id": "3nZ75HOctWI7"
      }
    },
    {
      "cell_type": "code",
      "source": [
        "class GRU_mymodel(Model):\n",
        "  def __init__(self, units, output_dim, num_layers, dropout_rate):\n",
        "    super(GRU_mymodel, self).__init__()\n",
        "    self.gru_layers = [GRU(units, return_sequences=(i < num_layers - 1)) for i in range(num_layers)]\n",
        "    self.dropout = Dropout(rate=dropout_rate)\n",
        "    self.dense = Dense(output_dim)\n",
        "\n",
        "  def call(self, inputs):\n",
        "    x = inputs\n",
        "    for gru_layer in self.gru_layers:\n",
        "      x = gru_layer(x)\n",
        "      x = self.dropout(x)  # Apply dropout after each GRU layer\n",
        "    output = self.dense(x)\n",
        "    output = custom_output(output)\n",
        "    return output"
      ],
      "metadata": {
        "id": "v9e6qF1KtlyV"
      },
      "execution_count": null,
      "outputs": []
    },
    {
      "cell_type": "markdown",
      "source": [
        "### CNN"
      ],
      "metadata": {
        "id": "B1mNKGTQurj2"
      }
    },
    {
      "cell_type": "code",
      "source": [
        "# CNN\n",
        "class CNN_mymodel(Model):\n",
        "  def __init__(self, output_dim, num_filters, kernel_size, dropout_rate):\n",
        "    super(CNN_mymodel, self).__init__()\n",
        "    self.conv1 = Conv2D(num_filters, kernel_size, activation='relu', padding='same')\n",
        "    self.pool1 = MaxPooling2D(pool_size=(2, 2), strides=(1, 1), padding='same')\n",
        "    self.conv2 = Conv2D(num_filters, kernel_size, activation='relu', padding='same')\n",
        "    self.pool2 = MaxPooling2D(pool_size=(2, 2), strides=(1, 1), padding='same')\n",
        "    self.flatten = Flatten()\n",
        "    self.dropout = Dropout(rate=dropout_rate)\n",
        "    self.dense = Dense(output_dim)\n",
        "\n",
        "  def call(self, inputs):\n",
        "    x = self.conv1(inputs)\n",
        "    x = self.pool1(x)\n",
        "    x = self.conv2(x)\n",
        "    x = self.pool2(x)\n",
        "    x = self.flatten(x)\n",
        "    x = self.dropout(x)\n",
        "    output = self.dense(x)\n",
        "    output = custom_output(output)\n",
        "    return output"
      ],
      "metadata": {
        "id": "s1jYrt4Dusxi"
      },
      "execution_count": null,
      "outputs": []
    },
    {
      "cell_type": "markdown",
      "source": [
        "### weight_aggregate"
      ],
      "metadata": {
        "id": "i3uksZ75wWTA"
      }
    },
    {
      "cell_type": "code",
      "source": [
        "def average_weight(models):\n",
        "  #avg\n",
        "  avg_weights = list()\n",
        "  nummodel = len(models)\n",
        "  for i,model in enumerate(models):\n",
        "    weights = model.get_weights()\n",
        "\n",
        "    for j in range(len(weights)):\n",
        "      if i==0:\n",
        "        avg_weights.append(weights[j])\n",
        "      else:\n",
        "        avg_weights[j]=avg_weights[j]+weights[j]\n",
        "\n",
        "  for i in range(len(weights)):\n",
        "    avg_weights[i]=avg_weights[i] / nummodel\n",
        "\n",
        "  # set\n",
        "  for i,model in enumerate(models):\n",
        "    weights = model.get_weights()\n",
        "\n",
        "    for j in range(len(weights)):\n",
        "      weights[j] = avg_weights[j]\n",
        "\n",
        "    model.set_weights(weights)"
      ],
      "metadata": {
        "id": "-25OkOgvwWAD"
      },
      "execution_count": null,
      "outputs": []
    },
    {
      "cell_type": "markdown",
      "source": [
        "# end"
      ],
      "metadata": {
        "id": "pPGM1d_otT7W"
      }
    },
    {
      "cell_type": "code",
      "source": [],
      "metadata": {
        "id": "pCO0wtfqtRss"
      },
      "execution_count": null,
      "outputs": []
    }
  ]
}